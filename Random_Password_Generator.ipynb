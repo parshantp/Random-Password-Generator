{
 "cells": [
  {
   "cell_type": "code",
   "execution_count": 2,
   "id": "7c6469ad-0321-4698-bc73-7c25c32a0116",
   "metadata": {},
   "outputs": [
    {
     "name": "stdout",
     "output_type": "stream",
     "text": [
      "You can use this password :-\n",
      "V-D^mBOq\n"
     ]
    }
   ],
   "source": [
    "\n",
    "# random password generator\n",
    "\n",
    "import random\n",
    "\n",
    "cap_alpha = \"ABCDEFGHIJKLMNOPQRSTUVWXYZ\"\n",
    "sml_alpha = \"abcdefghijklmnopqrstuvwxyz\"\n",
    "num = \"0123456789\"\n",
    "spl_char = \"!@#$%^&*/-+?|<>:;,.\"\n",
    "\n",
    "mix = cap_alpha+sml_alpha+num+spl_char\n",
    "length = 8\n",
    "\n",
    "password = \"\".join(random.sample(mix,length))\n",
    "\n",
    "print(f\"You can use this password :-\\n{password}\")\n"
   ]
  },
  {
   "cell_type": "code",
   "execution_count": null,
   "id": "3350ef61-977e-4370-b7b7-858ec50cec0f",
   "metadata": {},
   "outputs": [],
   "source": []
  }
 ],
 "metadata": {
  "kernelspec": {
   "display_name": "Python 3 (ipykernel)",
   "language": "python",
   "name": "python3"
  },
  "language_info": {
   "codemirror_mode": {
    "name": "ipython",
    "version": 3
   },
   "file_extension": ".py",
   "mimetype": "text/x-python",
   "name": "python",
   "nbconvert_exporter": "python",
   "pygments_lexer": "ipython3",
   "version": "3.11.7"
  }
 },
 "nbformat": 4,
 "nbformat_minor": 5
}
